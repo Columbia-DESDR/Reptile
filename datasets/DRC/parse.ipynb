{
 "cells": [
  {
   "cell_type": "code",
   "execution_count": 1,
   "metadata": {},
   "outputs": [],
   "source": [
    "import pandas as pd"
   ]
  },
  {
   "cell_type": "code",
   "execution_count": 8,
   "metadata": {},
   "outputs": [],
   "source": [
    "df1 = pd.read_csv('DRC_badyears_forzach.csv')\n",
    "df2 = pd.read_csv('drc_chirps_for_zach.csv')"
   ]
  },
  {
   "cell_type": "code",
   "execution_count": 13,
   "metadata": {},
   "outputs": [
    {
     "data": {
      "text/plain": [
       "{'Bulungu': 'Kwilu', 'Demba': 'Kasaï-Central', 'Kamonia': 'Kasaï'}"
      ]
     },
     "execution_count": 13,
     "metadata": {},
     "output_type": "execute_result"
    }
   ],
   "source": [
    "# get the map territory -> province from df1\n",
    "province_map = {}\n",
    "for i in range(len(df1)):\n",
    "    province_map[df1.iloc[i]['territory']] = df1.iloc[i]['province']\n",
    "province_map"
   ]
  },
  {
   "cell_type": "code",
   "execution_count": 14,
   "metadata": {},
   "outputs": [],
   "source": [
    "# apply the map to df2[\"territory\"]\n",
    "df2[\"province\"] = df2[\"territory\"].apply(lambda x: province_map[x])"
   ]
  },
  {
   "cell_type": "code",
   "execution_count": 16,
   "metadata": {},
   "outputs": [],
   "source": [
    "df2[df2[\"season\"] == \"Season A\"].to_csv(\"season_a.csv\", index=False)\n",
    "df2[df2[\"season\"] == \"Season B\"].to_csv(\"season_b.csv\", index=False)"
   ]
  },
  {
   "cell_type": "code",
   "execution_count": null,
   "metadata": {},
   "outputs": [],
   "source": []
  }
 ],
 "metadata": {
  "kernelspec": {
   "display_name": "Python 3",
   "language": "python",
   "name": "python3"
  },
  "language_info": {
   "codemirror_mode": {
    "name": "ipython",
    "version": 3
   },
   "file_extension": ".py",
   "mimetype": "text/x-python",
   "name": "python",
   "nbconvert_exporter": "python",
   "pygments_lexer": "ipython3",
   "version": "3.11.3"
  },
  "orig_nbformat": 4
 },
 "nbformat": 4,
 "nbformat_minor": 2
}
