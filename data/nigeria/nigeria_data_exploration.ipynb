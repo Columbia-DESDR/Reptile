{
  "metadata": {
    "kernelspec": {
      "name": "python",
      "display_name": "Python (Pyodide)",
      "language": "python"
    },
    "language_info": {
      "codemirror_mode": {
        "name": "python",
        "version": 3
      },
      "file_extension": ".py",
      "mimetype": "text/x-python",
      "name": "python",
      "nbconvert_exporter": "python",
      "pygments_lexer": "ipython3",
      "version": "3.8"
    }
  },
  "nbformat_minor": 4,
  "nbformat": 4,
  "cells": [
    {
      "cell_type": "code",
      "source": "import pandas as pd",
      "metadata": {
        "trusted": true
      },
      "outputs": [],
      "execution_count": 2
    },
    {
      "cell_type": "code",
      "source": "def print_entire_df(df):\n    with pd.option_context('display.max_rows', None, 'display.max_columns', None):\n        print(df)",
      "metadata": {
        "trusted": true
      },
      "outputs": [],
      "execution_count": 3
    },
    {
      "cell_type": "code",
      "source": "def get_and_clean_df(path):\n    df = pd.read_csv(path)\n    df = df.drop(columns=['Unnamed: 0', 'index'])\n    df = df[df['year'].notna()]\n    df.year = df.year.astype(int)\n    return df",
      "metadata": {
        "trusted": true
      },
      "outputs": [],
      "execution_count": 4
    },
    {
      "cell_type": "code",
      "source": "def get_borda_score(rank):\n    #borda score, first choice gets 8 points, second choice gets 7 points, etc. (min is 0)\n    MAX_RANK = 8\n    return MAX_RANK - rank + 1, 0)\n\ndef get_dowdall_score(rank):\n    #dowdall score, first choice gets 1 pts, second gets 1/2 pts, third gets 1/3 pts, etc.\n    return 1.0 / rank",
      "metadata": {
        "trusted": true
      },
      "outputs": [],
      "execution_count": 14
    },
    {
      "cell_type": "code",
      "source": "def convert_to_district_level_df(df):\n    df['score'] = df['rank'].apply(get_borda_score)\n    \n    df = df.groupby(['state', 'district', 'year']).sum('score').drop(columns=['rank'])\n    df = df.sort_values(['state', 'district', 'score', 'year'], ascending=[True, True, False, False])\n    \n    df['rank'] = df.groupby(['state', 'district']).rank(method='first', ascending=False).astype(int)\n    \n    df = df.drop(df[df['rank'] > 8].index)\n\n    return df",
      "metadata": {
        "trusted": true
      },
      "outputs": [],
      "execution_count": 15
    },
    {
      "cell_type": "code",
      "source": "df_drought = get_and_clean_df('./badyears_drought.csv')\ndf_drought = convert_to_district_level_df(df_drought)\n\nprint_entire_df(df_drought)\n\ndf_drought = df_drought.drop(columns=['score'])\n\ndf_drought.to_csv('./badyears_drought_district.csv')",
      "metadata": {
        "trusted": true
      },
      "outputs": [
        {
          "name": "stdout",
          "text": "                     score  rank\nstate district year             \nKwara Moro     2002     12     1\n               2015     11     2\n               2004      9     3\n               2023      8     4\n               2021      8     5\n               2019      8     6\n               1998      8     7\n               2006      7     8\nNiger Lapai    2022     24     1\n               2023     23     2\n               2021     22     3\n               2015     19     4\n               2010     19     5\n               2007     19     6\n               1997     17     7\n               2014     14     8\n      Minna    2020     59     1\n               2015     55     2\n               2021     41     3\n               2022     39     4\n               2017     37     5\n               2023     36     6\n               2019     31     7\n               2014     24     8\n      Mokwa    2003     21     1\n               2015     18     2\n               1993     17     3\n               2022     14     4\n               2011     13     5\n               2021     11     6\n               2002     11     7\n               2008      9     8\n",
          "output_type": "stream"
        }
      ],
      "execution_count": 16
    },
    {
      "cell_type": "code",
      "source": "df_excess = get_and_clean_df('./badyears_excess.csv')\ndf_excess = convert_to_district_level_df(df_excess)\n\nprint_entire_df(df_excess)\n\ndf_excess = df_excess.drop(columns=['score'])\n\ndf_excess.to_csv('./badyears_excess_district.csv')",
      "metadata": {
        "trusted": true
      },
      "outputs": [
        {
          "name": "stdout",
          "text": "                     score  rank\nstate district year             \nNiger Minna    2023     28     1\n               2021     27     2\n               2019     15     3\n               2015     14     4\n               2016     10     5\n               2012      9     6\n               2003      9     7\n               1998      9     8\n      Mokwa    2023     19     1\n               2016     12     2\n               2019     11     3\n               1998     10     4\n               1995      8     5\n               2018      7     6\n               2006      7     7\n               1990      7     8\n",
          "output_type": "stream"
        }
      ],
      "execution_count": 17
    },
    {
      "cell_type": "code",
      "source": "",
      "metadata": {
        "trusted": true
      },
      "outputs": [],
      "execution_count": null
    }
  ]
}