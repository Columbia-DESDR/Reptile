{
  "metadata": {
    "kernelspec": {
      "name": "python",
      "display_name": "Python (Pyodide)",
      "language": "python"
    },
    "language_info": {
      "codemirror_mode": {
        "name": "python",
        "version": 3
      },
      "file_extension": ".py",
      "mimetype": "text/x-python",
      "name": "python",
      "nbconvert_exporter": "python",
      "pygments_lexer": "ipython3",
      "version": "3.8"
    }
  },
  "nbformat_minor": 4,
  "nbformat": 4,
  "cells": [
    {
      "cell_type": "code",
      "source": "import pandas as pd",
      "metadata": {
        "trusted": true
      },
      "outputs": [],
      "execution_count": 5
    },
    {
      "cell_type": "code",
      "source": "def print_entire_df(df):\n    with pd.option_context('display.max_rows', None, 'display.max_columns', None):\n        print(df)",
      "metadata": {
        "trusted": true
      },
      "outputs": [],
      "execution_count": 6
    },
    {
      "cell_type": "code",
      "source": "def get_and_clean_df(path):\n    df = pd.read_csv(path)\n    df = df.drop(columns=['Unnamed: 0', 'index'])\n    df = df[df['year'].notna()]\n    df.year = df.year.astype(int)\n    return df",
      "metadata": {
        "trusted": true
      },
      "outputs": [],
      "execution_count": 16
    },
    {
      "cell_type": "code",
      "source": "df_drought = get_and_clean_df('./badyears_drought.csv')\ndf_excess = get_and_clean_df('./badyears_excess.csv')",
      "metadata": {
        "trusted": true
      },
      "outputs": [],
      "execution_count": 17
    },
    {
      "cell_type": "code",
      "source": "#df_excess = pd.read_csv('./badyears_excess.csv')\n#df_excess = df_excess.drop(columns=['Unnamed: 0', 'index'])\n#df_excess = df_excess[df_excess['year'].notna()]\n#df_excess.year = df_excess.year.astype(int)",
      "metadata": {
        "trusted": true
      },
      "outputs": [],
      "execution_count": 18
    },
    {
      "cell_type": "code",
      "source": "df_drought",
      "metadata": {
        "trusted": true
      },
      "outputs": [
        {
          "execution_count": 19,
          "output_type": "execute_result",
          "data": {
            "text/plain": "     state district village  rank  year\n0    Kwara     Moro  Olooru     1  2023\n1    Kwara     Moro  Olooru     2  2004\n2    Kwara     Moro  Olooru     3  2010\n3    Kwara     Moro  Olooru     4  2015\n4    Kwara     Moro  Olooru     5  2005\n..     ...      ...     ...   ...   ...\n240  Niger    Minna   Jedna     1  2022\n241  Niger    Minna   Jedna     2  2020\n242  Niger    Minna   Jedna     3  2015\n243  Niger    Minna   Jedna     4  2017\n244  Niger    Minna   Jedna     5  2016\n\n[216 rows x 5 columns]",
            "text/html": "<div>\n<style scoped>\n    .dataframe tbody tr th:only-of-type {\n        vertical-align: middle;\n    }\n\n    .dataframe tbody tr th {\n        vertical-align: top;\n    }\n\n    .dataframe thead th {\n        text-align: right;\n    }\n</style>\n<table border=\"1\" class=\"dataframe\">\n  <thead>\n    <tr style=\"text-align: right;\">\n      <th></th>\n      <th>state</th>\n      <th>district</th>\n      <th>village</th>\n      <th>rank</th>\n      <th>year</th>\n    </tr>\n  </thead>\n  <tbody>\n    <tr>\n      <th>0</th>\n      <td>Kwara</td>\n      <td>Moro</td>\n      <td>Olooru</td>\n      <td>1</td>\n      <td>2023</td>\n    </tr>\n    <tr>\n      <th>1</th>\n      <td>Kwara</td>\n      <td>Moro</td>\n      <td>Olooru</td>\n      <td>2</td>\n      <td>2004</td>\n    </tr>\n    <tr>\n      <th>2</th>\n      <td>Kwara</td>\n      <td>Moro</td>\n      <td>Olooru</td>\n      <td>3</td>\n      <td>2010</td>\n    </tr>\n    <tr>\n      <th>3</th>\n      <td>Kwara</td>\n      <td>Moro</td>\n      <td>Olooru</td>\n      <td>4</td>\n      <td>2015</td>\n    </tr>\n    <tr>\n      <th>4</th>\n      <td>Kwara</td>\n      <td>Moro</td>\n      <td>Olooru</td>\n      <td>5</td>\n      <td>2005</td>\n    </tr>\n    <tr>\n      <th>...</th>\n      <td>...</td>\n      <td>...</td>\n      <td>...</td>\n      <td>...</td>\n      <td>...</td>\n    </tr>\n    <tr>\n      <th>240</th>\n      <td>Niger</td>\n      <td>Minna</td>\n      <td>Jedna</td>\n      <td>1</td>\n      <td>2022</td>\n    </tr>\n    <tr>\n      <th>241</th>\n      <td>Niger</td>\n      <td>Minna</td>\n      <td>Jedna</td>\n      <td>2</td>\n      <td>2020</td>\n    </tr>\n    <tr>\n      <th>242</th>\n      <td>Niger</td>\n      <td>Minna</td>\n      <td>Jedna</td>\n      <td>3</td>\n      <td>2015</td>\n    </tr>\n    <tr>\n      <th>243</th>\n      <td>Niger</td>\n      <td>Minna</td>\n      <td>Jedna</td>\n      <td>4</td>\n      <td>2017</td>\n    </tr>\n    <tr>\n      <th>244</th>\n      <td>Niger</td>\n      <td>Minna</td>\n      <td>Jedna</td>\n      <td>5</td>\n      <td>2016</td>\n    </tr>\n  </tbody>\n</table>\n<p>216 rows × 5 columns</p>\n</div>"
          },
          "metadata": {}
        }
      ],
      "execution_count": 19
    },
    {
      "cell_type": "code",
      "source": "df_drought.columns",
      "metadata": {
        "trusted": true
      },
      "outputs": [
        {
          "execution_count": 20,
          "output_type": "execute_result",
          "data": {
            "text/plain": "Index(['state', 'district', 'village', 'rank', 'year'], dtype='object')"
          },
          "metadata": {}
        }
      ],
      "execution_count": 20
    },
    {
      "cell_type": "code",
      "source": "df_drought.dtypes",
      "metadata": {
        "trusted": true
      },
      "outputs": [
        {
          "execution_count": 21,
          "output_type": "execute_result",
          "data": {
            "text/plain": "state       object\ndistrict    object\nvillage     object\nrank         int64\nyear         int32\ndtype: object"
          },
          "metadata": {}
        }
      ],
      "execution_count": 21
    },
    {
      "cell_type": "code",
      "source": "def get_borda_score(rank):\n    MAX_RANK = 8\n    return MAX_RANK - rank + 1\n\ndef get_dowdall_score(rank):\n    return 1.0 / rank",
      "metadata": {
        "trusted": true
      },
      "outputs": [],
      "execution_count": 22
    },
    {
      "cell_type": "code",
      "source": "df_excess['score'] = df_excess['rank'].apply(get_borda_score)\ndf_drought['score'] = df_drought['rank'].apply(get_borda_score)",
      "metadata": {
        "trusted": true
      },
      "outputs": [],
      "execution_count": 23
    },
    {
      "cell_type": "code",
      "source": "df_excess",
      "metadata": {
        "trusted": true
      },
      "outputs": [
        {
          "execution_count": 24,
          "output_type": "execute_result",
          "data": {
            "text/plain": "    state district     village  rank  year  score\n0   Niger    Mokwa      Batako     1  2023      8\n1   Niger    Mokwa      Batako     2  1990      7\n2   Niger    Mokwa      Batako     3  2019      6\n3   Niger    Mokwa      Batako     4  2021      5\n4   Niger    Mokwa      Batako     5  2020      4\n5   Niger    Mokwa      Batako     6  1998      3\n6   Niger    Mokwa      Batako     7  2000      2\n7   Niger    Mokwa      Batako     8  2002      1\n8   Niger    Mokwa      Gogata     1  1995      8\n9   Niger    Mokwa      Gogata     2  2006      7\n10  Niger    Mokwa      Gogata     3  2008      6\n11  Niger    Mokwa      Gogata     4  1997      5\n12  Niger    Mokwa      Gogata     5  2013      4\n13  Niger    Mokwa      Gogata     6  2011      3\n14  Niger    Mokwa      Gogata     7  2022      2\n15  Niger    Mokwa      Gogata     8  2005      1\n16  Niger    Minna        Gana     1  2019      8\n17  Niger    Minna        Gana     2  2012      7\n18  Niger    Minna        Gana     3  2016      6\n19  Niger    Minna        Gana     4  2021      5\n20  Niger    Minna        Gana     5  2003      4\n24  Niger    Minna   Kataeregi     1  2021      8\n25  Niger    Minna   Kataeregi     2  2023      7\n26  Niger    Minna   Kataeregi     3  2020      6\n27  Niger    Minna   Kataeregi     4  2015      5\n28  Niger    Minna   Kataeregi     5  2016      4\n32  Niger    Minna    Emi wuro     1  2014      8\n33  Niger    Minna    Emi wuro     2  2019      7\n34  Niger    Minna    Emi wuro     3  2023      6\n35  Niger    Minna    Emi wuro     4  2001      5\n36  Niger    Minna    Emi wuro     5  1990      4\n37  Niger    Minna    Emi wuro     6  2015      3\n40  Niger    Mokwa  Kuchi Busu     1  2023      8\n41  Niger    Mokwa  Kuchi Busu     2  1998      7\n42  Niger    Mokwa  Kuchi Busu     3  2017      6\n43  Niger    Mokwa  Kuchi Busu     4  2003      5\n44  Niger    Mokwa  Kuchi Busu     5  2016      4\n45  Niger    Mokwa  Kuchi Busu     6  2010      3\n46  Niger    Mokwa  Kuchi Busu     7  2000      2\n47  Niger    Mokwa  Kuchi Busu     8  2012      1\n48  Niger    Mokwa     Edokota     1  2016      8\n49  Niger    Mokwa     Edokota     2  2018      7\n50  Niger    Mokwa     Edokota     3  1993      6\n51  Niger    Mokwa     Edokota     4  2019      5\n52  Niger    Mokwa     Edokota     5  1996      4\n53  Niger    Mokwa     Edokota     6  2023      3\n54  Niger    Mokwa     Edokota     7  2011      2\n55  Niger    Mokwa     Edokota     8  2009      1\n56  Niger    Minna      Gusase     1  2023      8\n57  Niger    Minna      Gusase     2  2013      7\n58  Niger    Minna      Gusase     3  2021      6\n59  Niger    Minna      Gusase     4  2003      5\n60  Niger    Minna      Gusase     5  1998      4\n64  Niger    Minna      Garatu     1  2021      8\n65  Niger    Minna      Garatu     2  2023      7\n66  Niger    Minna      Garatu     3  2015      6\n67  Niger    Minna      Garatu     4  1998      5\n68  Niger    Minna      Garatu     5  2004      4\n69  Niger    Minna      Garatu     6  2008      3\n70  Niger    Minna      Garatu     7  2012      2",
            "text/html": "<div>\n<style scoped>\n    .dataframe tbody tr th:only-of-type {\n        vertical-align: middle;\n    }\n\n    .dataframe tbody tr th {\n        vertical-align: top;\n    }\n\n    .dataframe thead th {\n        text-align: right;\n    }\n</style>\n<table border=\"1\" class=\"dataframe\">\n  <thead>\n    <tr style=\"text-align: right;\">\n      <th></th>\n      <th>state</th>\n      <th>district</th>\n      <th>village</th>\n      <th>rank</th>\n      <th>year</th>\n      <th>score</th>\n    </tr>\n  </thead>\n  <tbody>\n    <tr>\n      <th>0</th>\n      <td>Niger</td>\n      <td>Mokwa</td>\n      <td>Batako</td>\n      <td>1</td>\n      <td>2023</td>\n      <td>8</td>\n    </tr>\n    <tr>\n      <th>1</th>\n      <td>Niger</td>\n      <td>Mokwa</td>\n      <td>Batako</td>\n      <td>2</td>\n      <td>1990</td>\n      <td>7</td>\n    </tr>\n    <tr>\n      <th>2</th>\n      <td>Niger</td>\n      <td>Mokwa</td>\n      <td>Batako</td>\n      <td>3</td>\n      <td>2019</td>\n      <td>6</td>\n    </tr>\n    <tr>\n      <th>3</th>\n      <td>Niger</td>\n      <td>Mokwa</td>\n      <td>Batako</td>\n      <td>4</td>\n      <td>2021</td>\n      <td>5</td>\n    </tr>\n    <tr>\n      <th>4</th>\n      <td>Niger</td>\n      <td>Mokwa</td>\n      <td>Batako</td>\n      <td>5</td>\n      <td>2020</td>\n      <td>4</td>\n    </tr>\n    <tr>\n      <th>5</th>\n      <td>Niger</td>\n      <td>Mokwa</td>\n      <td>Batako</td>\n      <td>6</td>\n      <td>1998</td>\n      <td>3</td>\n    </tr>\n    <tr>\n      <th>6</th>\n      <td>Niger</td>\n      <td>Mokwa</td>\n      <td>Batako</td>\n      <td>7</td>\n      <td>2000</td>\n      <td>2</td>\n    </tr>\n    <tr>\n      <th>7</th>\n      <td>Niger</td>\n      <td>Mokwa</td>\n      <td>Batako</td>\n      <td>8</td>\n      <td>2002</td>\n      <td>1</td>\n    </tr>\n    <tr>\n      <th>8</th>\n      <td>Niger</td>\n      <td>Mokwa</td>\n      <td>Gogata</td>\n      <td>1</td>\n      <td>1995</td>\n      <td>8</td>\n    </tr>\n    <tr>\n      <th>9</th>\n      <td>Niger</td>\n      <td>Mokwa</td>\n      <td>Gogata</td>\n      <td>2</td>\n      <td>2006</td>\n      <td>7</td>\n    </tr>\n    <tr>\n      <th>10</th>\n      <td>Niger</td>\n      <td>Mokwa</td>\n      <td>Gogata</td>\n      <td>3</td>\n      <td>2008</td>\n      <td>6</td>\n    </tr>\n    <tr>\n      <th>11</th>\n      <td>Niger</td>\n      <td>Mokwa</td>\n      <td>Gogata</td>\n      <td>4</td>\n      <td>1997</td>\n      <td>5</td>\n    </tr>\n    <tr>\n      <th>12</th>\n      <td>Niger</td>\n      <td>Mokwa</td>\n      <td>Gogata</td>\n      <td>5</td>\n      <td>2013</td>\n      <td>4</td>\n    </tr>\n    <tr>\n      <th>13</th>\n      <td>Niger</td>\n      <td>Mokwa</td>\n      <td>Gogata</td>\n      <td>6</td>\n      <td>2011</td>\n      <td>3</td>\n    </tr>\n    <tr>\n      <th>14</th>\n      <td>Niger</td>\n      <td>Mokwa</td>\n      <td>Gogata</td>\n      <td>7</td>\n      <td>2022</td>\n      <td>2</td>\n    </tr>\n    <tr>\n      <th>15</th>\n      <td>Niger</td>\n      <td>Mokwa</td>\n      <td>Gogata</td>\n      <td>8</td>\n      <td>2005</td>\n      <td>1</td>\n    </tr>\n    <tr>\n      <th>16</th>\n      <td>Niger</td>\n      <td>Minna</td>\n      <td>Gana</td>\n      <td>1</td>\n      <td>2019</td>\n      <td>8</td>\n    </tr>\n    <tr>\n      <th>17</th>\n      <td>Niger</td>\n      <td>Minna</td>\n      <td>Gana</td>\n      <td>2</td>\n      <td>2012</td>\n      <td>7</td>\n    </tr>\n    <tr>\n      <th>18</th>\n      <td>Niger</td>\n      <td>Minna</td>\n      <td>Gana</td>\n      <td>3</td>\n      <td>2016</td>\n      <td>6</td>\n    </tr>\n    <tr>\n      <th>19</th>\n      <td>Niger</td>\n      <td>Minna</td>\n      <td>Gana</td>\n      <td>4</td>\n      <td>2021</td>\n      <td>5</td>\n    </tr>\n    <tr>\n      <th>20</th>\n      <td>Niger</td>\n      <td>Minna</td>\n      <td>Gana</td>\n      <td>5</td>\n      <td>2003</td>\n      <td>4</td>\n    </tr>\n    <tr>\n      <th>24</th>\n      <td>Niger</td>\n      <td>Minna</td>\n      <td>Kataeregi</td>\n      <td>1</td>\n      <td>2021</td>\n      <td>8</td>\n    </tr>\n    <tr>\n      <th>25</th>\n      <td>Niger</td>\n      <td>Minna</td>\n      <td>Kataeregi</td>\n      <td>2</td>\n      <td>2023</td>\n      <td>7</td>\n    </tr>\n    <tr>\n      <th>26</th>\n      <td>Niger</td>\n      <td>Minna</td>\n      <td>Kataeregi</td>\n      <td>3</td>\n      <td>2020</td>\n      <td>6</td>\n    </tr>\n    <tr>\n      <th>27</th>\n      <td>Niger</td>\n      <td>Minna</td>\n      <td>Kataeregi</td>\n      <td>4</td>\n      <td>2015</td>\n      <td>5</td>\n    </tr>\n    <tr>\n      <th>28</th>\n      <td>Niger</td>\n      <td>Minna</td>\n      <td>Kataeregi</td>\n      <td>5</td>\n      <td>2016</td>\n      <td>4</td>\n    </tr>\n    <tr>\n      <th>32</th>\n      <td>Niger</td>\n      <td>Minna</td>\n      <td>Emi wuro</td>\n      <td>1</td>\n      <td>2014</td>\n      <td>8</td>\n    </tr>\n    <tr>\n      <th>33</th>\n      <td>Niger</td>\n      <td>Minna</td>\n      <td>Emi wuro</td>\n      <td>2</td>\n      <td>2019</td>\n      <td>7</td>\n    </tr>\n    <tr>\n      <th>34</th>\n      <td>Niger</td>\n      <td>Minna</td>\n      <td>Emi wuro</td>\n      <td>3</td>\n      <td>2023</td>\n      <td>6</td>\n    </tr>\n    <tr>\n      <th>35</th>\n      <td>Niger</td>\n      <td>Minna</td>\n      <td>Emi wuro</td>\n      <td>4</td>\n      <td>2001</td>\n      <td>5</td>\n    </tr>\n    <tr>\n      <th>36</th>\n      <td>Niger</td>\n      <td>Minna</td>\n      <td>Emi wuro</td>\n      <td>5</td>\n      <td>1990</td>\n      <td>4</td>\n    </tr>\n    <tr>\n      <th>37</th>\n      <td>Niger</td>\n      <td>Minna</td>\n      <td>Emi wuro</td>\n      <td>6</td>\n      <td>2015</td>\n      <td>3</td>\n    </tr>\n    <tr>\n      <th>40</th>\n      <td>Niger</td>\n      <td>Mokwa</td>\n      <td>Kuchi Busu</td>\n      <td>1</td>\n      <td>2023</td>\n      <td>8</td>\n    </tr>\n    <tr>\n      <th>41</th>\n      <td>Niger</td>\n      <td>Mokwa</td>\n      <td>Kuchi Busu</td>\n      <td>2</td>\n      <td>1998</td>\n      <td>7</td>\n    </tr>\n    <tr>\n      <th>42</th>\n      <td>Niger</td>\n      <td>Mokwa</td>\n      <td>Kuchi Busu</td>\n      <td>3</td>\n      <td>2017</td>\n      <td>6</td>\n    </tr>\n    <tr>\n      <th>43</th>\n      <td>Niger</td>\n      <td>Mokwa</td>\n      <td>Kuchi Busu</td>\n      <td>4</td>\n      <td>2003</td>\n      <td>5</td>\n    </tr>\n    <tr>\n      <th>44</th>\n      <td>Niger</td>\n      <td>Mokwa</td>\n      <td>Kuchi Busu</td>\n      <td>5</td>\n      <td>2016</td>\n      <td>4</td>\n    </tr>\n    <tr>\n      <th>45</th>\n      <td>Niger</td>\n      <td>Mokwa</td>\n      <td>Kuchi Busu</td>\n      <td>6</td>\n      <td>2010</td>\n      <td>3</td>\n    </tr>\n    <tr>\n      <th>46</th>\n      <td>Niger</td>\n      <td>Mokwa</td>\n      <td>Kuchi Busu</td>\n      <td>7</td>\n      <td>2000</td>\n      <td>2</td>\n    </tr>\n    <tr>\n      <th>47</th>\n      <td>Niger</td>\n      <td>Mokwa</td>\n      <td>Kuchi Busu</td>\n      <td>8</td>\n      <td>2012</td>\n      <td>1</td>\n    </tr>\n    <tr>\n      <th>48</th>\n      <td>Niger</td>\n      <td>Mokwa</td>\n      <td>Edokota</td>\n      <td>1</td>\n      <td>2016</td>\n      <td>8</td>\n    </tr>\n    <tr>\n      <th>49</th>\n      <td>Niger</td>\n      <td>Mokwa</td>\n      <td>Edokota</td>\n      <td>2</td>\n      <td>2018</td>\n      <td>7</td>\n    </tr>\n    <tr>\n      <th>50</th>\n      <td>Niger</td>\n      <td>Mokwa</td>\n      <td>Edokota</td>\n      <td>3</td>\n      <td>1993</td>\n      <td>6</td>\n    </tr>\n    <tr>\n      <th>51</th>\n      <td>Niger</td>\n      <td>Mokwa</td>\n      <td>Edokota</td>\n      <td>4</td>\n      <td>2019</td>\n      <td>5</td>\n    </tr>\n    <tr>\n      <th>52</th>\n      <td>Niger</td>\n      <td>Mokwa</td>\n      <td>Edokota</td>\n      <td>5</td>\n      <td>1996</td>\n      <td>4</td>\n    </tr>\n    <tr>\n      <th>53</th>\n      <td>Niger</td>\n      <td>Mokwa</td>\n      <td>Edokota</td>\n      <td>6</td>\n      <td>2023</td>\n      <td>3</td>\n    </tr>\n    <tr>\n      <th>54</th>\n      <td>Niger</td>\n      <td>Mokwa</td>\n      <td>Edokota</td>\n      <td>7</td>\n      <td>2011</td>\n      <td>2</td>\n    </tr>\n    <tr>\n      <th>55</th>\n      <td>Niger</td>\n      <td>Mokwa</td>\n      <td>Edokota</td>\n      <td>8</td>\n      <td>2009</td>\n      <td>1</td>\n    </tr>\n    <tr>\n      <th>56</th>\n      <td>Niger</td>\n      <td>Minna</td>\n      <td>Gusase</td>\n      <td>1</td>\n      <td>2023</td>\n      <td>8</td>\n    </tr>\n    <tr>\n      <th>57</th>\n      <td>Niger</td>\n      <td>Minna</td>\n      <td>Gusase</td>\n      <td>2</td>\n      <td>2013</td>\n      <td>7</td>\n    </tr>\n    <tr>\n      <th>58</th>\n      <td>Niger</td>\n      <td>Minna</td>\n      <td>Gusase</td>\n      <td>3</td>\n      <td>2021</td>\n      <td>6</td>\n    </tr>\n    <tr>\n      <th>59</th>\n      <td>Niger</td>\n      <td>Minna</td>\n      <td>Gusase</td>\n      <td>4</td>\n      <td>2003</td>\n      <td>5</td>\n    </tr>\n    <tr>\n      <th>60</th>\n      <td>Niger</td>\n      <td>Minna</td>\n      <td>Gusase</td>\n      <td>5</td>\n      <td>1998</td>\n      <td>4</td>\n    </tr>\n    <tr>\n      <th>64</th>\n      <td>Niger</td>\n      <td>Minna</td>\n      <td>Garatu</td>\n      <td>1</td>\n      <td>2021</td>\n      <td>8</td>\n    </tr>\n    <tr>\n      <th>65</th>\n      <td>Niger</td>\n      <td>Minna</td>\n      <td>Garatu</td>\n      <td>2</td>\n      <td>2023</td>\n      <td>7</td>\n    </tr>\n    <tr>\n      <th>66</th>\n      <td>Niger</td>\n      <td>Minna</td>\n      <td>Garatu</td>\n      <td>3</td>\n      <td>2015</td>\n      <td>6</td>\n    </tr>\n    <tr>\n      <th>67</th>\n      <td>Niger</td>\n      <td>Minna</td>\n      <td>Garatu</td>\n      <td>4</td>\n      <td>1998</td>\n      <td>5</td>\n    </tr>\n    <tr>\n      <th>68</th>\n      <td>Niger</td>\n      <td>Minna</td>\n      <td>Garatu</td>\n      <td>5</td>\n      <td>2004</td>\n      <td>4</td>\n    </tr>\n    <tr>\n      <th>69</th>\n      <td>Niger</td>\n      <td>Minna</td>\n      <td>Garatu</td>\n      <td>6</td>\n      <td>2008</td>\n      <td>3</td>\n    </tr>\n    <tr>\n      <th>70</th>\n      <td>Niger</td>\n      <td>Minna</td>\n      <td>Garatu</td>\n      <td>7</td>\n      <td>2012</td>\n      <td>2</td>\n    </tr>\n  </tbody>\n</table>\n</div>"
          },
          "metadata": {}
        }
      ],
      "execution_count": 24
    },
    {
      "cell_type": "code",
      "source": "df_excess_grouped = df_excess.groupby(['state', 'district', 'year']).sum('score').drop(columns=['rank'])\ndf_excess_grouped = df_excess_grouped.sort_values(['state', 'district', 'score', 'year'], ascending=[True, True, False, True])\n",
      "metadata": {
        "trusted": true
      },
      "outputs": [],
      "execution_count": 25
    },
    {
      "cell_type": "code",
      "source": "print_entire_df(df_excess_grouped)",
      "metadata": {
        "trusted": true
      },
      "outputs": [
        {
          "name": "stdout",
          "text": "                     score\nstate district year       \nNiger Minna    2023     28\n               2021     27\n               2019     15\n               2015     14\n               2016     10\n               1998      9\n               2003      9\n               2012      9\n               2014      8\n               2013      7\n               2020      6\n               2001      5\n               1990      4\n               2004      4\n               2008      3\n      Mokwa    2023     19\n               2016     12\n               2019     11\n               1998     10\n               1995      8\n               1990      7\n               2006      7\n               2018      7\n               1993      6\n               2008      6\n               2017      6\n               1997      5\n               2003      5\n               2011      5\n               2021      5\n               1996      4\n               2000      4\n               2013      4\n               2020      4\n               2010      3\n               2022      2\n               2002      1\n               2005      1\n               2009      1\n               2012      1\n",
          "output_type": "stream"
        }
      ],
      "execution_count": 26
    },
    {
      "cell_type": "code",
      "source": "df_drought_grouped = df_drought.groupby(['state', 'district', 'year']).sum('score').drop(columns=['rank'])\ndf_drought_grouped = df_drought_grouped.sort_values(['state', 'district', 'score', 'year'], ascending=[True, True, False, True])",
      "metadata": {
        "trusted": true
      },
      "outputs": [],
      "execution_count": 27
    },
    {
      "cell_type": "code",
      "source": "print_entire_df(df_drought_grouped)",
      "metadata": {
        "trusted": true
      },
      "outputs": [
        {
          "name": "stdout",
          "text": "                     score\nstate district year       \nKwara Moro     2002     12\n               2015     11\n               2004      9\n               1998      8\n               2019      8\n               2021      8\n               2023      8\n               2006      7\n               2010      6\n               2022      6\n               2018      5\n               2005      4\n               2011      3\n               2016      3\nNiger Lapai    2022     24\n               2023     23\n               2021     22\n               2007     19\n               2010     19\n               2015     19\n               1997     17\n               1999     14\n               2014     14\n               2019     13\n               2005     12\n               2017     12\n               2012     11\n               2002     10\n               2018      9\n               2016      8\n               2003      7\n               2011      7\n               1992      5\n               2001      5\n               2004      5\n               1993      3\n               2006      3\n               1995      2\n               2000      2\n               2013      1\n      Minna    2020     59\n               2015     55\n               2021     41\n               2022     39\n               2017     37\n               2023     36\n               2019     31\n               2014     24\n               1993     15\n               2007     14\n               2018     14\n               2013     13\n               2016     12\n               2012     11\n               2003      9\n               1992      8\n               2008      8\n               1997      7\n               2000      7\n               2005      7\n               2009      7\n               2006      4\n               2011      4\n               1999      2\n               1990      1\n      Mokwa    2003     21\n               2015     18\n               1993     17\n               2022     14\n               2011     13\n               2002     11\n               2021     11\n               2001      9\n               2008      9\n               1991      8\n               1995      8\n               1999      8\n               2013      7\n               2009      6\n               2012      6\n               1997      5\n               1998      5\n               2005      5\n               2014      5\n               2016      5\n               2020      5\n               1990      4\n               1992      4\n               1994      3\n               2000      2\n               2018      2\n               2023      2\n               2004      1\n               2007      1\n               2010      1\n",
          "output_type": "stream"
        }
      ],
      "execution_count": 28
    },
    {
      "cell_type": "code",
      "source": "print_entire_df(df_drought)",
      "metadata": {
        "trusted": true
      },
      "outputs": [
        {
          "name": "stdout",
          "text": "     state district         village  rank  year     score\n0    Kwara     Moro          Olooru     1  2023  1.000000\n1    Kwara     Moro          Olooru     2  2004  0.500000\n2    Kwara     Moro          Olooru     3  2010  0.333333\n3    Kwara     Moro          Olooru     4  2015  0.250000\n4    Kwara     Moro          Olooru     5  2005  0.200000\n5    Kwara     Moro          Olooru     6  2016  0.166667\n8    Niger    Lapai         Etsugai     1  2015  1.000000\n9    Niger    Lapai         Etsugai     2  2010  0.500000\n10   Niger    Lapai         Etsugai     3  2019  0.333333\n11   Niger    Lapai         Etsugai     4  2007  0.250000\n12   Niger    Lapai         Etsugai     5  2004  0.200000\n13   Niger    Lapai         Etsugai     6  2022  0.166667\n14   Niger    Lapai         Etsugai     7  1999  0.142857\n16   Niger    Minna        Pyatta A     1  2021  1.000000\n17   Niger    Minna        Pyatta A     2  2015  0.500000\n18   Niger    Minna        Pyatta A     3  2007  0.333333\n19   Niger    Minna        Pyatta A     4  2023  0.250000\n20   Niger    Minna        Pyatta A     5  2020  0.200000\n21   Niger    Minna        Pyatta A     6  2016  0.166667\n22   Niger    Minna        Pyatta A     7  1999  0.142857\n23   Niger    Minna        Pyatta A     8  1990  0.125000\n24   Niger    Minna        Shatta A     1  2020  1.000000\n25   Niger    Minna        Shatta A     2  2022  0.500000\n26   Niger    Minna        Shatta A     3  2023  0.333333\n27   Niger    Minna        Shatta A     4  2016  0.250000\n28   Niger    Minna        Shatta A     5  2011  0.200000\n32   Niger    Lapai        Kutiriko     1  2012  1.000000\n33   Niger    Lapai        Kutiriko     2  2022  0.500000\n34   Niger    Lapai        Kutiriko     3  2016  0.333333\n35   Niger    Lapai        Kutiriko     4  2007  0.250000\n36   Niger    Lapai        Kutiriko     5  2019  0.200000\n37   Niger    Lapai        Kutiriko     6  1997  0.166667\n38   Niger    Lapai        Kutiriko     7  2000  0.142857\n39   Niger    Lapai        Kutiriko     8  1992  0.125000\n40   Niger    Mokwa        Dassun A     1  1995  1.000000\n41   Niger    Mokwa        Dassun A     2  2001  0.500000\n42   Niger    Mokwa        Dassun A     3  2022  0.333333\n43   Niger    Mokwa        Dassun A     4  2003  0.250000\n44   Niger    Mokwa        Dassun A     5  1992  0.200000\n45   Niger    Mokwa        Dassun A     6  2011  0.166667\n46   Niger    Mokwa        Dassun A     7  2018  0.142857\n47   Niger    Mokwa        Dassun A     8  2016  0.125000\n48   Niger    Mokwa        Dassun B     1  2022  1.000000\n49   Niger    Mokwa        Dassun B     2  2015  0.500000\n50   Niger    Mokwa        Dassun B     3  2009  0.333333\n51   Niger    Mokwa        Dassun B     4  2005  0.250000\n52   Niger    Mokwa        Dassun B     5  1990  0.200000\n53   Niger    Mokwa        Dassun B     6  1993  0.166667\n54   Niger    Mokwa        Dassun B     7  2014  0.142857\n55   Niger    Mokwa        Dassun B     8  2016  0.125000\n56   Niger    Minna    Tunga Mallam     1  2014  1.000000\n57   Niger    Minna    Tunga Mallam     2  2020  0.500000\n58   Niger    Minna    Tunga Mallam     3  2023  0.333333\n59   Niger    Minna    Tunga Mallam     4  2015  0.250000\n60   Niger    Minna    Tunga Mallam     5  2007  0.200000\n61   Niger    Minna    Tunga Mallam     6  2018  0.166667\n64   Niger    Minna        Anninigi     1  2020  1.000000\n65   Niger    Minna        Anninigi     2  2022  0.500000\n66   Niger    Minna        Anninigi     3  2013  0.333333\n67   Niger    Minna        Anninigi     4  2017  0.250000\n68   Niger    Minna        Anninigi     5  2019  0.200000\n69   Niger    Minna        Anninigi     6  2000  0.166667\n70   Niger    Minna        Anninigi     7  2005  0.142857\n72   Niger    Minna         Tutungo     1  2014  1.000000\n73   Niger    Minna         Tutungo     2  2015  0.500000\n74   Niger    Minna         Tutungo     3  2018  0.333333\n75   Niger    Minna         Tutungo     4  2020  0.250000\n76   Niger    Minna         Tutungo     5  2022  0.200000\n77   Niger    Minna         Tutungo     6  2003  0.166667\n80   Niger    Mokwa       Gazhe One     1  2003  1.000000\n81   Niger    Mokwa       Gazhe One     2  2011  0.500000\n82   Niger    Mokwa       Gazhe One     3  2012  0.333333\n83   Niger    Mokwa       Gazhe One     4  2015  0.250000\n84   Niger    Mokwa       Gazhe One     5  2021  0.200000\n85   Niger    Mokwa       Gazhe One     6  1994  0.166667\n86   Niger    Mokwa       Gazhe One     7  1999  0.142857\n87   Niger    Mokwa       Gazhe One     8  2004  0.125000\n88   Niger    Mokwa       Gazhe Two     1  2008  1.000000\n89   Niger    Mokwa       Gazhe Two     2  2002  0.500000\n90   Niger    Mokwa       Gazhe Two     3  1993  0.333333\n91   Niger    Mokwa       Gazhe Two     4  1998  0.250000\n92   Niger    Mokwa       Gazhe Two     5  2003  0.200000\n93   Niger    Mokwa       Gazhe Two     6  2014  0.166667\n94   Niger    Mokwa       Gazhe Two     7  2023  0.142857\n95   Niger    Mokwa       Gazhe Two     8  2007  0.125000\n96   Kwara     Moro        Babadudu     1  1998  1.000000\n97   Kwara     Moro        Babadudu     2  2002  0.500000\n98   Kwara     Moro        Babadudu     3  2022  0.333333\n99   Kwara     Moro        Babadudu     4  2018  0.250000\n100  Kwara     Moro        Babadudu     5  2021  0.200000\n101  Kwara     Moro        Babadudu     6  2011  0.166667\n102  Kwara     Moro        Babadudu     7  2004  0.142857\n104  Niger    Minna    Maikunkele B     1  2014  1.000000\n105  Niger    Minna    Maikunkele B     2  1993  0.500000\n106  Niger    Minna    Maikunkele B     3  2017  0.333333\n107  Niger    Minna    Maikunkele B     4  2005  0.250000\n108  Niger    Minna    Maikunkele B     5  2020  0.200000\n109  Niger    Minna    Maikunkele B     6  2023  0.166667\n112  Niger    Lapai          Magaji     1  2023  1.000000\n113  Niger    Lapai          Magaji     2  2022  0.500000\n114  Niger    Lapai          Magaji     3  2021  0.333333\n115  Niger    Lapai          Magaji     4  2007  0.250000\n116  Niger    Lapai          Magaji     5  2015  0.200000\n117  Niger    Lapai          Magaji     6  2018  0.166667\n118  Niger    Lapai          Magaji     7  2002  0.142857\n120  Niger    Minna          Gwam A     1  1993  1.000000\n121  Niger    Minna          Gwam A     2  2021  0.500000\n122  Niger    Minna          Gwam A     3  2015  0.333333\n123  Niger    Minna          Gwam A     4  2017  0.250000\n124  Niger    Minna          Gwam A     5  2013  0.200000\n125  Niger    Minna          Gwam A     6  2019  0.166667\n126  Niger    Minna          Gwam A     7  2022  0.142857\n128  Niger    Minna          Gwam C     1  2008  1.000000\n129  Niger    Minna          Gwam C     2  2012  0.500000\n130  Niger    Minna          Gwam C     3  2019  0.333333\n131  Niger    Minna          Gwam C     4  2020  0.250000\n132  Niger    Minna          Gwam C     5  2021  0.200000\n133  Niger    Minna          Gwam C     6  2022  0.166667\n134  Niger    Minna          Gwam C     7  2023  0.142857\n136  Niger    Lapai  Brining maza B     1  2017  1.000000\n137  Niger    Lapai  Brining maza B     2  2011  0.500000\n138  Niger    Lapai  Brining maza B     3  2014  0.333333\n139  Niger    Lapai  Brining maza B     4  2021  0.250000\n140  Niger    Lapai  Brining maza B     5  1999  0.200000\n141  Niger    Lapai  Brining maza B     6  2019  0.166667\n142  Niger    Lapai  Brining maza B     7  1995  0.142857\n143  Niger    Lapai  Brining maza B     8  1997  0.125000\n144  Niger    Mokwa         Labozhi     1  1993  1.000000\n145  Niger    Mokwa         Labozhi     2  2021  0.500000\n146  Niger    Mokwa         Labozhi     3  2015  0.333333\n147  Niger    Mokwa         Labozhi     4  1997  0.250000\n148  Niger    Mokwa         Labozhi     5  2002  0.200000\n149  Niger    Mokwa         Labozhi     6  2011  0.166667\n150  Niger    Mokwa         Labozhi     7  2000  0.142857\n151  Niger    Mokwa         Labozhi     8  2008  0.125000\n152  Kwara     Moro         Elemere     1  2019  1.000000\n153  Kwara     Moro         Elemere     2  2006  0.500000\n154  Kwara     Moro         Elemere     3  2015  0.333333\n155  Kwara     Moro         Elemere     4  2002  0.250000\n156  Kwara     Moro         Elemere     5  2021  0.200000\n160  Niger    Minna        Shatta B     1  2021  1.000000\n161  Niger    Minna        Shatta B     2  1997  0.500000\n162  Niger    Minna        Shatta B     3  2020  0.333333\n163  Niger    Minna        Shatta B     4  2019  0.250000\n164  Niger    Minna        Shatta B     5  2000  0.200000\n165  Niger    Minna        Shatta B     6  2003  0.166667\n166  Niger    Minna        Shatta B     7  2022  0.142857\n167  Niger    Minna        Shatta B     8  2023  0.125000\n168  Niger    Lapai         Kudna A     1  2021  1.000000\n169  Niger    Lapai         Kudna A     2  2022  0.500000\n170  Niger    Lapai         Kudna A     3  2010  0.333333\n171  Niger    Lapai         Kudna A     4  1997  0.250000\n172  Niger    Lapai         Kudna A     5  2007  0.200000\n173  Niger    Lapai         Kudna A     6  2012  0.166667\n174  Niger    Lapai         Kudna A     7  2016  0.142857\n175  Niger    Lapai         Kudna A     8  2002  0.125000\n176  Niger    Lapai         Lambata     1  2014  1.000000\n177  Niger    Lapai         Lambata     2  2023  0.500000\n178  Niger    Lapai         Lambata     3  2005  0.333333\n179  Niger    Lapai         Lambata     4  2001  0.250000\n180  Niger    Lapai         Lambata     5  2018  0.200000\n181  Niger    Lapai         Lambata     6  1993  0.166667\n182  Niger    Lapai         Lambata     7  2015  0.142857\n183  Niger    Lapai         Lambata     8  2013  0.125000\n184  Niger    Minna         Jangaru     1  2021  1.000000\n185  Niger    Minna         Jangaru     2  2009  0.500000\n186  Niger    Minna         Jangaru     3  2023  0.333333\n187  Niger    Minna         Jangaru     4  2018  0.250000\n188  Niger    Minna         Jangaru     5  2015  0.200000\n189  Niger    Minna         Jangaru     6  2017  0.166667\n192  Niger    Minna          Kodo C     1  2019  1.000000\n193  Niger    Minna          Kodo C     2  2023  0.500000\n194  Niger    Minna          Kodo C     3  2015  0.333333\n195  Niger    Minna          Kodo C     4  2017  0.250000\n196  Niger    Minna          Kodo C     5  2007  0.200000\n200  Niger    Minna          Kodo B     1  1992  1.000000\n201  Niger    Minna          Kodo B     2  2015  0.500000\n202  Niger    Minna          Kodo B     3  2022  0.333333\n203  Niger    Minna          Kodo B     4  2020  0.250000\n204  Niger    Minna          Kodo B     5  2012  0.200000\n205  Niger    Minna          Kodo B     6  2003  0.166667\n208  Niger    Mokwa           Kpaki     1  1991  1.000000\n209  Niger    Mokwa           Kpaki     2  2013  0.500000\n210  Niger    Mokwa           Kpaki     3  1999  0.333333\n211  Niger    Mokwa           Kpaki     4  2020  0.250000\n212  Niger    Mokwa           Kpaki     5  2003  0.200000\n213  Niger    Mokwa           Kpaki     6  2016  0.166667\n214  Niger    Mokwa           Kpaki     7  2001  0.142857\n215  Niger    Mokwa           Kpaki     8  2010  0.125000\n216  Niger    Lapai          Gawu B     1  1997  1.000000\n217  Niger    Lapai          Gawu B     2  2002  0.500000\n218  Niger    Lapai          Gawu B     3  2023  0.333333\n219  Niger    Lapai          Gawu B     4  2010  0.250000\n220  Niger    Lapai          Gawu B     5  1992  0.200000\n221  Niger    Lapai          Gawu B     6  2006  0.166667\n222  Niger    Lapai          Gawu B     7  2018  0.142857\n223  Niger    Lapai          Gawu B     8  2004  0.125000\n224  Niger    Lapai          Gawu A     1  1999  1.000000\n225  Niger    Lapai          Gawu A     2  2003  0.500000\n226  Niger    Lapai          Gawu A     3  2005  0.333333\n227  Niger    Lapai          Gawu A     4  2015  0.250000\n228  Niger    Lapai          Gawu A     5  2017  0.200000\n229  Niger    Lapai          Gawu A     6  2021  0.166667\n230  Niger    Lapai          Gawu A     7  2023  0.142857\n231  Niger    Lapai          Gawu A     8  2010  0.125000\n232  Niger    Minna       Nuwankota     1  2017  1.000000\n233  Niger    Minna       Nuwankota     2  2015  0.500000\n234  Niger    Minna       Nuwankota     3  2021  0.333333\n235  Niger    Minna       Nuwankota     4  2019  0.250000\n236  Niger    Minna       Nuwankota     5  2006  0.200000\n237  Niger    Minna       Nuwankota     6  2013  0.166667\n240  Niger    Minna           Jedna     1  2022  1.000000\n241  Niger    Minna           Jedna     2  2020  0.500000\n242  Niger    Minna           Jedna     3  2015  0.333333\n243  Niger    Minna           Jedna     4  2017  0.250000\n244  Niger    Minna           Jedna     5  2016  0.200000\n",
          "output_type": "stream"
        }
      ],
      "execution_count": 72
    },
    {
      "cell_type": "code",
      "source": "print_entire_df(df_excess)",
      "metadata": {
        "trusted": true
      },
      "outputs": [
        {
          "name": "stdout",
          "text": "    Unnamed: 0  state district     village  index  rank    year\n0            1  Niger    Mokwa      Batako      1     1  2023.0\n1            2  Niger    Mokwa      Batako      1     2  1990.0\n2            3  Niger    Mokwa      Batako      1     3  2019.0\n3            4  Niger    Mokwa      Batako      1     4  2021.0\n4            5  Niger    Mokwa      Batako      1     5  2020.0\n5            6  Niger    Mokwa      Batako      1     6  1998.0\n6            7  Niger    Mokwa      Batako      1     7  2000.0\n7            8  Niger    Mokwa      Batako      1     8  2002.0\n8            9  Niger    Mokwa      Gogata      2     1  1995.0\n9           10  Niger    Mokwa      Gogata      2     2  2006.0\n10          11  Niger    Mokwa      Gogata      2     3  2008.0\n11          12  Niger    Mokwa      Gogata      2     4  1997.0\n12          13  Niger    Mokwa      Gogata      2     5  2013.0\n13          14  Niger    Mokwa      Gogata      2     6  2011.0\n14          15  Niger    Mokwa      Gogata      2     7  2022.0\n15          16  Niger    Mokwa      Gogata      2     8  2005.0\n16          17  Niger    Minna        Gana      3     1  2019.0\n17          18  Niger    Minna        Gana      3     2  2012.0\n18          19  Niger    Minna        Gana      3     3  2016.0\n19          20  Niger    Minna        Gana      3     4  2021.0\n20          21  Niger    Minna        Gana      3     5  2003.0\n24          25  Niger    Minna   Kataeregi      4     1  2021.0\n25          26  Niger    Minna   Kataeregi      4     2  2023.0\n26          27  Niger    Minna   Kataeregi      4     3  2020.0\n27          28  Niger    Minna   Kataeregi      4     4  2015.0\n28          29  Niger    Minna   Kataeregi      4     5  2016.0\n32          33  Niger    Minna    Emi wuro      5     1  2014.0\n33          34  Niger    Minna    Emi wuro      5     2  2019.0\n34          35  Niger    Minna    Emi wuro      5     3  2023.0\n35          36  Niger    Minna    Emi wuro      5     4  2001.0\n36          37  Niger    Minna    Emi wuro      5     5  1990.0\n37          38  Niger    Minna    Emi wuro      5     6  2015.0\n40          41  Niger    Mokwa  Kuchi Busu      6     1  2023.0\n41          42  Niger    Mokwa  Kuchi Busu      6     2  1998.0\n42          43  Niger    Mokwa  Kuchi Busu      6     3  2017.0\n43          44  Niger    Mokwa  Kuchi Busu      6     4  2003.0\n44          45  Niger    Mokwa  Kuchi Busu      6     5  2016.0\n45          46  Niger    Mokwa  Kuchi Busu      6     6  2010.0\n46          47  Niger    Mokwa  Kuchi Busu      6     7  2000.0\n47          48  Niger    Mokwa  Kuchi Busu      6     8  2012.0\n48          49  Niger    Mokwa     Edokota      7     1  2016.0\n49          50  Niger    Mokwa     Edokota      7     2  2018.0\n50          51  Niger    Mokwa     Edokota      7     3  1993.0\n51          52  Niger    Mokwa     Edokota      7     4  2019.0\n52          53  Niger    Mokwa     Edokota      7     5  1996.0\n53          54  Niger    Mokwa     Edokota      7     6  2023.0\n54          55  Niger    Mokwa     Edokota      7     7  2011.0\n55          56  Niger    Mokwa     Edokota      7     8  2009.0\n56          57  Niger    Minna      Gusase      8     1  2023.0\n57          58  Niger    Minna      Gusase      8     2  2013.0\n58          59  Niger    Minna      Gusase      8     3  2021.0\n59          60  Niger    Minna      Gusase      8     4  2003.0\n60          61  Niger    Minna      Gusase      8     5  1998.0\n64          65  Niger    Minna      Garatu      9     1  2021.0\n65          66  Niger    Minna      Garatu      9     2  2023.0\n66          67  Niger    Minna      Garatu      9     3  2015.0\n67          68  Niger    Minna      Garatu      9     4  1998.0\n68          69  Niger    Minna      Garatu      9     5  2004.0\n69          70  Niger    Minna      Garatu      9     6  2008.0\n70          71  Niger    Minna      Garatu      9     7  2012.0\n",
          "output_type": "stream"
        }
      ],
      "execution_count": 20
    },
    {
      "cell_type": "code",
      "source": "",
      "metadata": {
        "trusted": true
      },
      "outputs": [],
      "execution_count": null
    }
  ]
}