{
  "metadata": {
    "kernelspec": {
      "name": "python",
      "display_name": "Python (Pyodide)",
      "language": "python"
    },
    "language_info": {
      "codemirror_mode": {
        "name": "python",
        "version": 3
      },
      "file_extension": ".py",
      "mimetype": "text/x-python",
      "name": "python",
      "nbconvert_exporter": "python",
      "pygments_lexer": "ipython3",
      "version": "3.8"
    }
  },
  "nbformat_minor": 4,
  "nbformat": 4,
  "cells": [
    {
      "cell_type": "code",
      "source": "import pandas as pd",
      "metadata": {
        "trusted": true
      },
      "outputs": [],
      "execution_count": 22
    },
    {
      "cell_type": "code",
      "source": "def print_entire_df(df):\n    with pd.option_context('display.max_rows', None, 'display.max_columns', None):\n        print(df)",
      "metadata": {
        "trusted": true
      },
      "outputs": [],
      "execution_count": 23
    },
    {
      "cell_type": "code",
      "source": "def get_and_clean_df(path):\n    df = pd.read_csv(path)\n    df = df.drop(columns=['Unnamed: 0', 'index'])\n    df = df[df['year'].notna()]\n    df.year = df.year.astype(int)\n    return df",
      "metadata": {
        "trusted": true
      },
      "outputs": [],
      "execution_count": 24
    },
    {
      "cell_type": "code",
      "source": "def get_borda_score(rank):\n    #borda score, first choice gets 8 points, second choice gets 7 points, etc. (assumes max of 8 rankings)\n    MAX_RANK = 8\n    return MAX_RANK - rank + 1\n\ndef get_dowdall_score(rank):\n    #dowdall score, first choice gets 1 pts, second gets 1/2 pts, third gets 1/3 pts, etc.\n    return 1.0 / rank",
      "metadata": {
        "trusted": true
      },
      "outputs": [],
      "execution_count": 25
    },
    {
      "cell_type": "code",
      "source": "def convert_to_district_level_df(df):\n    df['score'] = df['rank'].apply(get_borda_score)\n    \n    df = df.groupby(['state', 'district', 'year']).sum('score').drop(columns=['rank'])\n    df = df.sort_values(['state', 'district', 'score', 'year'], ascending=[True, True, False, False])\n    \n    df['rank'] = df.groupby(['state', 'district']).rank(method='first', ascending=False).astype(int)\n    \n    df = df.drop(df[df['rank'] > 8].index)\n\n    return df",
      "metadata": {
        "trusted": true
      },
      "outputs": [],
      "execution_count": 26
    },
    {
      "cell_type": "code",
      "source": "df_drought = get_and_clean_df('./badyears_drought.csv')\n\nprint_entire_df(df_drought)",
      "metadata": {
        "trusted": true
      },
      "outputs": [
        {
          "name": "stdout",
          "text": "     state district         village  rank  year\n0    Kwara     Moro          Olooru     1  2023\n1    Kwara     Moro          Olooru     2  2004\n2    Kwara     Moro          Olooru     3  2010\n3    Kwara     Moro          Olooru     4  2015\n4    Kwara     Moro          Olooru     5  2005\n5    Kwara     Moro          Olooru     6  2016\n8    Niger    Lapai         Etsugai     1  2015\n9    Niger    Lapai         Etsugai     2  2010\n10   Niger    Lapai         Etsugai     3  2019\n11   Niger    Lapai         Etsugai     4  2007\n12   Niger    Lapai         Etsugai     5  2004\n13   Niger    Lapai         Etsugai     6  2022\n14   Niger    Lapai         Etsugai     7  1999\n16   Niger    Minna        Pyatta A     1  2021\n17   Niger    Minna        Pyatta A     2  2015\n18   Niger    Minna        Pyatta A     3  2007\n19   Niger    Minna        Pyatta A     4  2023\n20   Niger    Minna        Pyatta A     5  2020\n21   Niger    Minna        Pyatta A     6  2016\n22   Niger    Minna        Pyatta A     7  1999\n23   Niger    Minna        Pyatta A     8  1990\n24   Niger    Minna        Shatta A     1  2020\n25   Niger    Minna        Shatta A     2  2022\n26   Niger    Minna        Shatta A     3  2023\n27   Niger    Minna        Shatta A     4  2016\n28   Niger    Minna        Shatta A     5  2011\n32   Niger    Lapai        Kutiriko     1  2012\n33   Niger    Lapai        Kutiriko     2  2022\n34   Niger    Lapai        Kutiriko     3  2016\n35   Niger    Lapai        Kutiriko     4  2007\n36   Niger    Lapai        Kutiriko     5  2019\n37   Niger    Lapai        Kutiriko     6  1997\n38   Niger    Lapai        Kutiriko     7  2000\n39   Niger    Lapai        Kutiriko     8  1992\n40   Niger    Mokwa        Dassun A     1  1995\n41   Niger    Mokwa        Dassun A     2  2001\n42   Niger    Mokwa        Dassun A     3  2022\n43   Niger    Mokwa        Dassun A     4  2003\n44   Niger    Mokwa        Dassun A     5  1992\n45   Niger    Mokwa        Dassun A     6  2011\n46   Niger    Mokwa        Dassun A     7  2018\n47   Niger    Mokwa        Dassun A     8  2016\n48   Niger    Mokwa        Dassun B     1  2022\n49   Niger    Mokwa        Dassun B     2  2015\n50   Niger    Mokwa        Dassun B     3  2009\n51   Niger    Mokwa        Dassun B     4  2005\n52   Niger    Mokwa        Dassun B     5  1990\n53   Niger    Mokwa        Dassun B     6  1993\n54   Niger    Mokwa        Dassun B     7  2014\n55   Niger    Mokwa        Dassun B     8  2016\n56   Niger    Minna    Tunga Mallam     1  2014\n57   Niger    Minna    Tunga Mallam     2  2020\n58   Niger    Minna    Tunga Mallam     3  2023\n59   Niger    Minna    Tunga Mallam     4  2015\n60   Niger    Minna    Tunga Mallam     5  2007\n61   Niger    Minna    Tunga Mallam     6  2018\n64   Niger    Minna        Anninigi     1  2020\n65   Niger    Minna        Anninigi     2  2022\n66   Niger    Minna        Anninigi     3  2013\n67   Niger    Minna        Anninigi     4  2017\n68   Niger    Minna        Anninigi     5  2019\n69   Niger    Minna        Anninigi     6  2000\n70   Niger    Minna        Anninigi     7  2005\n72   Niger    Minna         Tutungo     1  2014\n73   Niger    Minna         Tutungo     2  2015\n74   Niger    Minna         Tutungo     3  2018\n75   Niger    Minna         Tutungo     4  2020\n76   Niger    Minna         Tutungo     5  2022\n77   Niger    Minna         Tutungo     6  2003\n80   Niger    Mokwa       Gazhe One     1  2003\n81   Niger    Mokwa       Gazhe One     2  2011\n82   Niger    Mokwa       Gazhe One     3  2012\n83   Niger    Mokwa       Gazhe One     4  2015\n84   Niger    Mokwa       Gazhe One     5  2021\n85   Niger    Mokwa       Gazhe One     6  1994\n86   Niger    Mokwa       Gazhe One     7  1999\n87   Niger    Mokwa       Gazhe One     8  2004\n88   Niger    Mokwa       Gazhe Two     1  2008\n89   Niger    Mokwa       Gazhe Two     2  2002\n90   Niger    Mokwa       Gazhe Two     3  1993\n91   Niger    Mokwa       Gazhe Two     4  1998\n92   Niger    Mokwa       Gazhe Two     5  2003\n93   Niger    Mokwa       Gazhe Two     6  2014\n94   Niger    Mokwa       Gazhe Two     7  2023\n95   Niger    Mokwa       Gazhe Two     8  2007\n96   Kwara     Moro        Babadudu     1  1998\n97   Kwara     Moro        Babadudu     2  2002\n98   Kwara     Moro        Babadudu     3  2022\n99   Kwara     Moro        Babadudu     4  2018\n100  Kwara     Moro        Babadudu     5  2021\n101  Kwara     Moro        Babadudu     6  2011\n102  Kwara     Moro        Babadudu     7  2004\n104  Niger    Minna    Maikunkele B     1  2014\n105  Niger    Minna    Maikunkele B     2  1993\n106  Niger    Minna    Maikunkele B     3  2017\n107  Niger    Minna    Maikunkele B     4  2005\n108  Niger    Minna    Maikunkele B     5  2020\n109  Niger    Minna    Maikunkele B     6  2023\n112  Niger    Lapai          Magaji     1  2023\n113  Niger    Lapai          Magaji     2  2022\n114  Niger    Lapai          Magaji     3  2021\n115  Niger    Lapai          Magaji     4  2007\n116  Niger    Lapai          Magaji     5  2015\n117  Niger    Lapai          Magaji     6  2018\n118  Niger    Lapai          Magaji     7  2002\n120  Niger    Minna          Gwam A     1  1993\n121  Niger    Minna          Gwam A     2  2021\n122  Niger    Minna          Gwam A     3  2015\n123  Niger    Minna          Gwam A     4  2017\n124  Niger    Minna          Gwam A     5  2013\n125  Niger    Minna          Gwam A     6  2019\n126  Niger    Minna          Gwam A     7  2022\n128  Niger    Minna          Gwam C     1  2008\n129  Niger    Minna          Gwam C     2  2012\n130  Niger    Minna          Gwam C     3  2019\n131  Niger    Minna          Gwam C     4  2020\n132  Niger    Minna          Gwam C     5  2021\n133  Niger    Minna          Gwam C     6  2022\n134  Niger    Minna          Gwam C     7  2023\n136  Niger    Lapai  Brining maza B     1  2017\n137  Niger    Lapai  Brining maza B     2  2011\n138  Niger    Lapai  Brining maza B     3  2014\n139  Niger    Lapai  Brining maza B     4  2021\n140  Niger    Lapai  Brining maza B     5  1999\n141  Niger    Lapai  Brining maza B     6  2019\n142  Niger    Lapai  Brining maza B     7  1995\n143  Niger    Lapai  Brining maza B     8  1997\n144  Niger    Mokwa         Labozhi     1  1993\n145  Niger    Mokwa         Labozhi     2  2021\n146  Niger    Mokwa         Labozhi     3  2015\n147  Niger    Mokwa         Labozhi     4  1997\n148  Niger    Mokwa         Labozhi     5  2002\n149  Niger    Mokwa         Labozhi     6  2011\n150  Niger    Mokwa         Labozhi     7  2000\n151  Niger    Mokwa         Labozhi     8  2008\n152  Kwara     Moro         Elemere     1  2019\n153  Kwara     Moro         Elemere     2  2006\n154  Kwara     Moro         Elemere     3  2015\n155  Kwara     Moro         Elemere     4  2002\n156  Kwara     Moro         Elemere     5  2021\n160  Niger    Minna        Shatta B     1  2021\n161  Niger    Minna        Shatta B     2  1997\n162  Niger    Minna        Shatta B     3  2020\n163  Niger    Minna        Shatta B     4  2019\n164  Niger    Minna        Shatta B     5  2000\n165  Niger    Minna        Shatta B     6  2003\n166  Niger    Minna        Shatta B     7  2022\n167  Niger    Minna        Shatta B     8  2023\n168  Niger    Lapai         Kudna A     1  2021\n169  Niger    Lapai         Kudna A     2  2022\n170  Niger    Lapai         Kudna A     3  2010\n171  Niger    Lapai         Kudna A     4  1997\n172  Niger    Lapai         Kudna A     5  2007\n173  Niger    Lapai         Kudna A     6  2012\n174  Niger    Lapai         Kudna A     7  2016\n175  Niger    Lapai         Kudna A     8  2002\n176  Niger    Lapai         Lambata     1  2014\n177  Niger    Lapai         Lambata     2  2023\n178  Niger    Lapai         Lambata     3  2005\n179  Niger    Lapai         Lambata     4  2001\n180  Niger    Lapai         Lambata     5  2018\n181  Niger    Lapai         Lambata     6  1993\n182  Niger    Lapai         Lambata     7  2015\n183  Niger    Lapai         Lambata     8  2013\n184  Niger    Minna         Jangaru     1  2021\n185  Niger    Minna         Jangaru     2  2009\n186  Niger    Minna         Jangaru     3  2023\n187  Niger    Minna         Jangaru     4  2018\n188  Niger    Minna         Jangaru     5  2015\n189  Niger    Minna         Jangaru     6  2017\n192  Niger    Minna          Kodo C     1  2019\n193  Niger    Minna          Kodo C     2  2023\n194  Niger    Minna          Kodo C     3  2015\n195  Niger    Minna          Kodo C     4  2017\n196  Niger    Minna          Kodo C     5  2007\n200  Niger    Minna          Kodo B     1  1992\n201  Niger    Minna          Kodo B     2  2015\n202  Niger    Minna          Kodo B     3  2022\n203  Niger    Minna          Kodo B     4  2020\n204  Niger    Minna          Kodo B     5  2012\n205  Niger    Minna          Kodo B     6  2003\n208  Niger    Mokwa           Kpaki     1  1991\n209  Niger    Mokwa           Kpaki     2  2013\n210  Niger    Mokwa           Kpaki     3  1999\n211  Niger    Mokwa           Kpaki     4  2020\n212  Niger    Mokwa           Kpaki     5  2003\n213  Niger    Mokwa           Kpaki     6  2016\n214  Niger    Mokwa           Kpaki     7  2001\n215  Niger    Mokwa           Kpaki     8  2010\n216  Niger    Lapai          Gawu B     1  1997\n217  Niger    Lapai          Gawu B     2  2002\n218  Niger    Lapai          Gawu B     3  2023\n219  Niger    Lapai          Gawu B     4  2010\n220  Niger    Lapai          Gawu B     5  1992\n221  Niger    Lapai          Gawu B     6  2006\n222  Niger    Lapai          Gawu B     7  2018\n223  Niger    Lapai          Gawu B     8  2004\n224  Niger    Lapai          Gawu A     1  1999\n225  Niger    Lapai          Gawu A     2  2003\n226  Niger    Lapai          Gawu A     3  2005\n227  Niger    Lapai          Gawu A     4  2015\n228  Niger    Lapai          Gawu A     5  2017\n229  Niger    Lapai          Gawu A     6  2021\n230  Niger    Lapai          Gawu A     7  2023\n231  Niger    Lapai          Gawu A     8  2010\n232  Niger    Minna       Nuwankota     1  2017\n233  Niger    Minna       Nuwankota     2  2015\n234  Niger    Minna       Nuwankota     3  2021\n235  Niger    Minna       Nuwankota     4  2019\n236  Niger    Minna       Nuwankota     5  2006\n237  Niger    Minna       Nuwankota     6  2013\n240  Niger    Minna           Jedna     1  2022\n241  Niger    Minna           Jedna     2  2020\n242  Niger    Minna           Jedna     3  2015\n243  Niger    Minna           Jedna     4  2017\n244  Niger    Minna           Jedna     5  2016\n",
          "output_type": "stream"
        }
      ],
      "execution_count": 31
    },
    {
      "cell_type": "code",
      "source": "df_drought = convert_to_district_level_df(df_drought)\n\nprint_entire_df(df_drought)\n\ndf_drought = df_drought.drop(columns=['score'])\n\ndf_drought.to_csv('./badyears_drought_district.csv')",
      "metadata": {
        "trusted": true
      },
      "outputs": [
        {
          "name": "stdout",
          "text": "                     score  rank\nstate district year             \nKwara Moro     2002     12     1\n               2015     11     2\n               2004      9     3\n               2023      8     4\n               2021      8     5\n               2019      8     6\n               1998      8     7\n               2006      7     8\nNiger Lapai    2022     24     1\n               2023     23     2\n               2021     22     3\n               2015     19     4\n               2010     19     5\n               2007     19     6\n               1997     17     7\n               2014     14     8\n      Minna    2020     59     1\n               2015     55     2\n               2021     41     3\n               2022     39     4\n               2017     37     5\n               2023     36     6\n               2019     31     7\n               2014     24     8\n      Mokwa    2003     21     1\n               2015     18     2\n               1993     17     3\n               2022     14     4\n               2011     13     5\n               2021     11     6\n               2002     11     7\n               2008      9     8\n",
          "output_type": "stream"
        }
      ],
      "execution_count": null
    },
    {
      "cell_type": "code",
      "source": "df_excess = get_and_clean_df('./badyears_excess.csv')\ndf_excess = convert_to_district_level_df(df_excess)\n\nprint_entire_df(df_excess)\n\ndf_excess = df_excess.drop(columns=['score'])\n\ndf_excess.to_csv('./badyears_excess_district.csv')",
      "metadata": {
        "trusted": true
      },
      "outputs": [
        {
          "name": "stdout",
          "text": "                     score  rank\nstate district year             \nNiger Minna    2023     28     1\n               2021     27     2\n               2019     15     3\n               2015     14     4\n               2016     10     5\n               2012      9     6\n               2003      9     7\n               1998      9     8\n      Mokwa    2023     19     1\n               2016     12     2\n               2019     11     3\n               1998     10     4\n               1995      8     5\n               2018      7     6\n               2006      7     7\n               1990      7     8\n",
          "output_type": "stream"
        }
      ],
      "execution_count": 28
    },
    {
      "cell_type": "code",
      "source": "",
      "metadata": {
        "trusted": true
      },
      "outputs": [],
      "execution_count": null
    }
  ]
}